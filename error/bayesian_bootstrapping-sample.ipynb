{
 "cells": [
  {
   "cell_type": "code",
   "execution_count": 4,
   "id": "e0da3a07",
   "metadata": {},
   "outputs": [],
   "source": [
    "### Install bayesian_bootstrap from pip\n",
    "### https://pypi.org/project/bayesian-bootstrap/\n",
    "### Also need numpy, seaborn and matplotlib in this example\n",
    "from bayesian_bootstrap import mean, highest_density_interval, bayesian_bootstrap\n",
    "import numpy"
   ]
  },
  {
   "cell_type": "code",
   "execution_count": 27,
   "id": "f84b931b",
   "metadata": {},
   "outputs": [],
   "source": [
    "## Data points...\n",
    "X = [2.3154e+05,7.2781e+03, 9.13e+04] #wsh2045"
   ]
  },
  {
   "cell_type": "code",
   "execution_count": 28,
   "id": "0786f55d",
   "metadata": {},
   "outputs": [
    {
     "name": "stdout",
     "output_type": "stream",
     "text": [
      "19244.633333333335\n"
     ]
    }
   ],
   "source": [
    "print(numpy.mean(X))\n",
    "# Classical Bootstrapping\n",
    "#posterior_samples = mean(X, 10000)\n",
    "## Use Bayesian Bootstrapping instead\n",
    "posterior_samples = bayesian_bootstrap(X, numpy.mean, 10000, 100)"
   ]
  },
  {
   "cell_type": "code",
   "execution_count": 29,
   "id": "2615b191",
   "metadata": {},
   "outputs": [],
   "source": [
    "l,r = highest_density_interval(posterior_samples)"
   ]
  },
  {
   "cell_type": "code",
   "execution_count": 30,
   "id": "84e197cb",
   "metadata": {},
   "outputs": [
    {
     "name": "stderr",
     "output_type": "stream",
     "text": [
      "/home/jml230/anaconda3/envs/wedap-bbs-haMSM/lib/python3.11/site-packages/seaborn/distributions.py:2619: FutureWarning: `distplot` is a deprecated function and will be removed in a future version. Please adapt your code to use either `displot` (a figure-level function with similar flexibility) or `histplot` (an axes-level function for histograms).\n",
      "  warnings.warn(msg, FutureWarning)\n"
     ]
    },
    {
     "data": {
      "text/plain": [
       "[<matplotlib.lines.Line2D at 0x7fb4d43f0850>]"
      ]
     },
     "execution_count": 30,
     "metadata": {},
     "output_type": "execute_result"
    },
    {
     "data": {
      "image/png": "[encoded data removed]",
      "text/plain": [
       "<Figure size 432x288 with 1 Axes>"
      ]
     },
     "metadata": {
      "needs_background": "light"
     },
     "output_type": "display_data"
    }
   ],
   "source": [
    "import matplotlib.pyplot as plt\n",
    "import seaborn as sns\n",
    "plt.title('Bayesian Bootstrap of mean')\n",
    "sns.distplot(posterior_samples, label='Bayesian Bootstrap Samples')\n",
    "plt.plot([l,r], [0,0], linewidth=5.0, marker='o', label='95% HDI')"
   ]
  },
  {
   "cell_type": "code",
   "execution_count": 31,
   "id": "5f0fc849",
   "metadata": {},
   "outputs": [
    {
     "data": {
      "text/plain": [
       "(237.832, 44099.191000000006, 19244.633333333335)"
      ]
     },
     "execution_count": 31,
     "metadata": {},
     "output_type": "execute_result"
    }
   ],
   "source": [
    "l,r,numpy.mean(X)"
   ]
  },
  {
   "cell_type": "code",
   "execution_count": 32,
   "id": "d1a863f9",
   "metadata": {},
   "outputs": [
    {
     "data": {
      "text/plain": [
       "19006.801333333337"
      ]
     },
     "execution_count": 32,
     "metadata": {},
     "output_type": "execute_result"
    }
   ],
   "source": [
    "numpy.mean(X) - l"
   ]
  },
  {
   "cell_type": "code",
   "execution_count": 33,
   "id": "f3364121",
   "metadata": {},
   "outputs": [
    {
     "data": {
      "text/plain": [
       "24854.55766666667"
      ]
     },
     "execution_count": 33,
     "metadata": {},
     "output_type": "execute_result"
    }
   ],
   "source": [
    "r -numpy.mean(X)"
   ]
  },
  {
   "cell_type": "code",
   "execution_count": 18,
   "id": "dbe5f81e",
   "metadata": {},
   "outputs": [
    {
     "data": {
      "text/plain": [
       "1469.5477999999998"
      ]
     },
     "execution_count": 18,
     "metadata": {},
     "output_type": "execute_result"
    }
   ],
   "source": [
    "l+r /2"
   ]
  },
  {
   "cell_type": "code",
   "execution_count": 19,
   "id": "ebf8c18b",
   "metadata": {},
   "outputs": [
    {
     "data": {
      "text/plain": [
       "-129583.95319999999"
      ]
     },
     "execution_count": 19,
     "metadata": {},
     "output_type": "execute_result"
    }
   ],
   "source": [
    "r-132151.49"
   ]
  },
  {
   "cell_type": "code",
   "execution_count": null,
   "id": "357aa4b6",
   "metadata": {},
   "outputs": [],
   "source": []
  }
 ],
 "metadata": {
  "kernelspec": {
   "display_name": "Python 3 (ipykernel)",
   "language": "python",
   "name": "python3"
  },
  "language_info": {
   "codemirror_mode": {
    "name": "ipython",
    "version": 3
   },
   "file_extension": ".py",
   "mimetype": "text/x-python",
   "name": "python",
   "nbconvert_exporter": "python",
   "pygments_lexer": "ipython3",
   "version": "3.11.0"
  }
 },
 "nbformat": 4,
 "nbformat_minor": 5
}
